{
 "cells": [
  {
   "cell_type": "code",
   "execution_count": 48,
   "metadata": {
    "colab": {
     "base_uri": "https://localhost:8080/",
     "height": 419
    },
    "colab_type": "code",
    "id": "NHM95hROYbi1",
    "outputId": "274b537c-88a0-4909-e3a8-04eee6ca804a"
   },
   "outputs": [],
   "source": [
    "# !pip install quandl"
   ]
  },
  {
   "cell_type": "code",
   "execution_count": 82,
   "metadata": {
    "colab": {
     "base_uri": "https://localhost:8080/",
     "height": 81
    },
    "colab_type": "code",
    "id": "x3g0cOIlYQR9",
    "outputId": "10b132e7-60ac-4887-dca1-0e36b1467cf6"
   },
   "outputs": [],
   "source": [
    "import quandl\n",
    "import numpy as np\n",
    "import pandas as pd\n",
    "import matplotlib.pyplot as plt\n",
    "from sklearn.svm import SVR\n",
    "from sklearn.tree import DecisionTreeRegressor\n",
    "from sklearn.ensemble import RandomForestRegressor\n",
    "from sklearn.ensemble import GradientBoostingRegressor\n",
    "from sklearn.model_selection import train_test_split\n",
    "from sklearn.preprocessing import MinMaxScaler\n",
    "\n",
    "from keras.models import Sequential\n",
    "from keras.layers import Dense\n",
    "from keras.layers import LSTM\n",
    "from keras.layers import Dropout\n",
    "\n",
    "import warnings\n",
    "warnings.filterwarnings('ignore')"
   ]
  },
  {
   "cell_type": "code",
   "execution_count": 83,
   "metadata": {
    "colab": {},
    "colab_type": "code",
    "id": "dG-STbs1YQSF"
   },
   "outputs": [],
   "source": [
    "df = quandl.get(\"BSE/SENSEX\", api_key = 'yA9xSn4eNsCXebcYZc-F')\n",
    "a = df.Close.min()\n",
    "b = df.Close.max()"
   ]
  },
  {
   "cell_type": "code",
   "execution_count": 84,
   "metadata": {
    "colab": {
     "base_uri": "https://localhost:8080/",
     "height": 233
    },
    "colab_type": "code",
    "id": "jCEaYkK8YQSI",
    "outputId": "3fca9555-1fb3-496b-a449-c1322ec18456"
   },
   "outputs": [
    {
     "data": {
      "text/html": [
       "<div>\n",
       "<style scoped>\n",
       "    .dataframe tbody tr th:only-of-type {\n",
       "        vertical-align: middle;\n",
       "    }\n",
       "\n",
       "    .dataframe tbody tr th {\n",
       "        vertical-align: top;\n",
       "    }\n",
       "\n",
       "    .dataframe thead th {\n",
       "        text-align: right;\n",
       "    }\n",
       "</style>\n",
       "<table border=\"1\" class=\"dataframe\">\n",
       "  <thead>\n",
       "    <tr style=\"text-align: right;\">\n",
       "      <th></th>\n",
       "      <th>Close</th>\n",
       "    </tr>\n",
       "    <tr>\n",
       "      <th>Date</th>\n",
       "      <th></th>\n",
       "    </tr>\n",
       "  </thead>\n",
       "  <tbody>\n",
       "    <tr>\n",
       "      <th>1979-04-03</th>\n",
       "      <td>124.15</td>\n",
       "    </tr>\n",
       "    <tr>\n",
       "      <th>1979-04-04</th>\n",
       "      <td>122.85</td>\n",
       "    </tr>\n",
       "    <tr>\n",
       "      <th>1979-04-06</th>\n",
       "      <td>123.52</td>\n",
       "    </tr>\n",
       "    <tr>\n",
       "      <th>1979-04-07</th>\n",
       "      <td>124.18</td>\n",
       "    </tr>\n",
       "    <tr>\n",
       "      <th>1979-04-09</th>\n",
       "      <td>124.30</td>\n",
       "    </tr>\n",
       "  </tbody>\n",
       "</table>\n",
       "</div>"
      ],
      "text/plain": [
       "             Close\n",
       "Date              \n",
       "1979-04-03  124.15\n",
       "1979-04-04  122.85\n",
       "1979-04-06  123.52\n",
       "1979-04-07  124.18\n",
       "1979-04-09  124.30"
      ]
     },
     "execution_count": 84,
     "metadata": {},
     "output_type": "execute_result"
    }
   ],
   "source": [
    "df = df[[\"Close\"]]\n",
    "df.head()"
   ]
  },
  {
   "cell_type": "code",
   "execution_count": 85,
   "metadata": {
    "colab": {
     "base_uri": "https://localhost:8080/",
     "height": 287
    },
    "colab_type": "code",
    "id": "URnIODnnYQSQ",
    "outputId": "0d5078a7-1c5c-481c-d640-66aec7eccfb9"
   },
   "outputs": [
    {
     "data": {
      "text/plain": [
       "<matplotlib.axes._subplots.AxesSubplot at 0x2094980f1d0>"
      ]
     },
     "execution_count": 85,
     "metadata": {},
     "output_type": "execute_result"
    },
    {
     "data": {
      "image/png": "[encoded data removed]",
      "text/plain": [
       "<Figure size 432x288 with 1 Axes>"
      ]
     },
     "metadata": {
      "needs_background": "light"
     },
     "output_type": "display_data"
    }
   ],
   "source": [
    "df.plot()"
   ]
  },
  {
   "cell_type": "code",
   "execution_count": 86,
   "metadata": {
    "colab": {},
    "colab_type": "code",
    "id": "0hrriCQRYQSW"
   },
   "outputs": [],
   "source": [
    "lag = 50\n",
    "\n",
    "df['Predicted'] = df[['Close']].shift(-lag)\n",
    "\n",
    "X = np.array(df.drop([\"Predicted\"],1))[:-lag]\n",
    "y = np.array(df['Predicted'])[:-lag]\n",
    "\n",
    "sc = MinMaxScaler(feature_range = (0, 1))\n",
    "X = sc.fit_transform(X)\n",
    "y = sc.fit_transform(y.reshape(-1,1))"
   ]
  },
  {
   "cell_type": "code",
   "execution_count": 87,
   "metadata": {
    "colab": {},
    "colab_type": "code",
    "id": "_s6WU6rCYQSf"
   },
   "outputs": [],
   "source": [
    "X_train, X_test, y_train, y_test = train_test_split(X,y)"
   ]
  },
  {
   "cell_type": "markdown",
   "metadata": {
    "colab_type": "text",
    "id": "cLlGI0bEcPOf"
   },
   "source": [
    "### ML Models"
   ]
  },
  {
   "cell_type": "code",
   "execution_count": 88,
   "metadata": {
    "colab": {
     "base_uri": "https://localhost:8080/",
     "height": 35
    },
    "colab_type": "code",
    "id": "Xnul6_lbYQSm",
    "outputId": "0eb0e2d9-8b5d-4739-b54d-79851254beb8"
   },
   "outputs": [
    {
     "data": {
      "text/plain": [
       "0.9898125149321187"
      ]
     },
     "execution_count": 88,
     "metadata": {},
     "output_type": "execute_result"
    }
   ],
   "source": [
    "from sklearn.linear_model import LinearRegression\n",
    "model1 = LinearRegression().fit(X_train,y_train)\n",
    "model1.score(X_test,y_test)"
   ]
  },
  {
   "cell_type": "code",
   "execution_count": 89,
   "metadata": {
    "colab": {
     "base_uri": "https://localhost:8080/",
     "height": 35
    },
    "colab_type": "code",
    "id": "XqrYi5rQYQSv",
    "outputId": "162687d3-9c94-46d7-8c21-0d5d8c2ab2c9"
   },
   "outputs": [
    {
     "data": {
      "text/plain": [
       "0.9866918366499972"
      ]
     },
     "execution_count": 89,
     "metadata": {},
     "output_type": "execute_result"
    }
   ],
   "source": [
    "model2 = SVR(kernel='rbf', C=10000, gamma=0.0001).fit(X_train,y_train)\n",
    "model2.score(X_test,y_test)"
   ]
  },
  {
   "cell_type": "code",
   "execution_count": 90,
   "metadata": {
    "colab": {
     "base_uri": "https://localhost:8080/",
     "height": 35
    },
    "colab_type": "code",
    "id": "XMla5YRIYQS1",
    "outputId": "41ba4339-c455-4273-e59b-7bcb1792dcfc"
   },
   "outputs": [
    {
     "data": {
      "text/plain": [
       "0.9840485501447378"
      ]
     },
     "execution_count": 90,
     "metadata": {},
     "output_type": "execute_result"
    }
   ],
   "source": [
    "model3 = DecisionTreeRegressor().fit(X_train,y_train)\n",
    "model3.score(X_test,y_test)"
   ]
  },
  {
   "cell_type": "code",
   "execution_count": 91,
   "metadata": {
    "colab": {
     "base_uri": "https://localhost:8080/",
     "height": 35
    },
    "colab_type": "code",
    "id": "46hUzFR1YQS8",
    "outputId": "6561e90b-b265-49bb-b72b-777332e4ff3a"
   },
   "outputs": [
    {
     "data": {
      "text/plain": [
       "0.9872909616474855"
      ]
     },
     "execution_count": 91,
     "metadata": {},
     "output_type": "execute_result"
    }
   ],
   "source": [
    "model4 = RandomForestRegressor().fit(X_train,y_train)\n",
    "model4.score(X_test,y_test)"
   ]
  },
  {
   "cell_type": "code",
   "execution_count": 92,
   "metadata": {
    "colab": {
     "base_uri": "https://localhost:8080/",
     "height": 35
    },
    "colab_type": "code",
    "id": "4OBFyUSnbHJD",
    "outputId": "a28565f5-7912-4146-906a-34aa9cbeaf44"
   },
   "outputs": [
    {
     "data": {
      "text/plain": [
       "0.9914019146234064"
      ]
     },
     "execution_count": 92,
     "metadata": {},
     "output_type": "execute_result"
    }
   ],
   "source": [
    "model5 = GradientBoostingRegressor().fit(X_train,y_train)\n",
    "model5.score(X_test,y_test)"
   ]
  },
  {
   "cell_type": "markdown",
   "metadata": {
    "colab_type": "text",
    "id": "LXEbgdzP8eQ7"
   },
   "source": [
    "### LSTMs"
   ]
  },
  {
   "cell_type": "code",
   "execution_count": 93,
   "metadata": {
    "colab": {},
    "colab_type": "code",
    "id": "_Ac6NvB-kQUw"
   },
   "outputs": [],
   "source": [
    "data = sc.fit_transform(df.values)"
   ]
  },
  {
   "cell_type": "code",
   "execution_count": 94,
   "metadata": {
    "colab": {},
    "colab_type": "code",
    "id": "XsSZ-kKakgiO"
   },
   "outputs": [],
   "source": [
    "train_size = int(len(data) * 0.80)\n",
    "\n",
    "train_data = data[:train_size , :]\n",
    "test_data = data[train_size: , :]\n"
   ]
  },
  {
   "cell_type": "code",
   "execution_count": 95,
   "metadata": {
    "colab": {},
    "colab_type": "code",
    "id": "IlCyw5OHk_6G"
   },
   "outputs": [],
   "source": [
    "def create_dataset(dataset, lag=50):\n",
    "    dataX, dataY = [], []\n",
    "    for i in range(len(dataset)-lag-1):\n",
    "        a = dataset[i:(i+lag), 0]\n",
    "        dataX.append(a)\n",
    "        dataY.append(dataset[i + lag, 0])\n",
    "    return np.array(dataX), np.array(dataY)"
   ]
  },
  {
   "cell_type": "code",
   "execution_count": 96,
   "metadata": {
    "colab": {},
    "colab_type": "code",
    "id": "g2f96BXhlJW9"
   },
   "outputs": [],
   "source": [
    "lag = 50\n",
    "X_train, y_train = create_dataset(train_data, lag)\n",
    "X_test, y_test = create_dataset(test_data, lag)"
   ]
  },
  {
   "cell_type": "code",
   "execution_count": 97,
   "metadata": {},
   "outputs": [
    {
     "data": {
      "text/plain": [
       "0.9983021176958123"
      ]
     },
     "execution_count": 97,
     "metadata": {},
     "output_type": "execute_result"
    }
   ],
   "source": [
    "model6 = LinearRegression().fit(X_train,y_train)\n",
    "model6.score(X_test,y_test)                                  "
   ]
  },
  {
   "cell_type": "code",
   "execution_count": 132,
   "metadata": {},
   "outputs": [
    {
     "data": {
      "text/plain": [
       "<matplotlib.legend.Legend at 0x2094cc11438>"
      ]
     },
     "execution_count": 132,
     "metadata": {},
     "output_type": "execute_result"
    },
    {
     "data": {
      "image/png": "[encoded data removed]",
      "text/plain": [
       "<Figure size 432x288 with 1 Axes>"
      ]
     },
     "metadata": {
      "needs_background": "light"
     },
     "output_type": "display_data"
    }
   ],
   "source": [
    "y_pred6 = model6.predict(X_test)\n",
    "plt.plot(y_test,'ro',label=\"Actual\")\n",
    "plt.plot(y_pred6,'c',label=\"Predicted\")\n",
    "plt.legend()"
   ]
  },
  {
   "cell_type": "code",
   "execution_count": 67,
   "metadata": {
    "colab": {},
    "colab_type": "code",
    "id": "oiZ4hHt2lbj9"
   },
   "outputs": [],
   "source": [
    "X_train = np.reshape(X_train, (X_train.shape[0], 1, X_train.shape[1]))\n",
    "X_test = np.reshape(X_test, (X_test.shape[0], 1, X_test.shape[1]))"
   ]
  },
  {
   "cell_type": "code",
   "execution_count": 68,
   "metadata": {
    "colab": {
     "base_uri": "https://localhost:8080/",
     "height": 399
    },
    "colab_type": "code",
    "id": "i93EZuUJek4A",
    "outputId": "27e4283b-9e46-4c9a-9370-a2acaf09b733"
   },
   "outputs": [
    {
     "name": "stdout",
     "output_type": "stream",
     "text": [
      "Train on 7122 samples, validate on 375 samples\n",
      "Epoch 1/10\n",
      "7122/7122 [==============================] - 2s 293us/step - loss: 0.0052 - val_loss: 6.8995e-04\n",
      "Epoch 2/10\n",
      "7122/7122 [==============================] - 1s 94us/step - loss: 4.8765e-04 - val_loss: 3.4269e-04\n",
      "Epoch 3/10\n",
      "7122/7122 [==============================] - 1s 87us/step - loss: 4.4625e-04 - val_loss: 5.6650e-04\n",
      "Epoch 4/10\n",
      "7122/7122 [==============================] - 1s 90us/step - loss: 3.7819e-04 - val_loss: 2.6560e-04\n",
      "Epoch 5/10\n",
      "7122/7122 [==============================] - 1s 84us/step - loss: 3.4860e-04 - val_loss: 2.4166e-04\n",
      "Epoch 6/10\n",
      "7122/7122 [==============================] - 1s 85us/step - loss: 3.1551e-04 - val_loss: 3.1572e-04\n",
      "Epoch 7/10\n",
      "7122/7122 [==============================] - 1s 86us/step - loss: 2.8986e-04 - val_loss: 2.2327e-04\n",
      "Epoch 8/10\n",
      "7122/7122 [==============================] - 1s 91us/step - loss: 2.7519e-04 - val_loss: 2.8370e-04\n",
      "Epoch 9/10\n",
      "7122/7122 [==============================] - 1s 88us/step - loss: 2.6513e-04 - val_loss: 1.6501e-04\n",
      "Epoch 10/10\n",
      "7122/7122 [==============================] - 1s 91us/step - loss: 2.4297e-04 - val_loss: 2.4902e-04\n"
     ]
    },
    {
     "data": {
      "text/plain": [
       "<keras.callbacks.callbacks.History at 0x20942a70e10>"
      ]
     },
     "execution_count": 68,
     "metadata": {},
     "output_type": "execute_result"
    }
   ],
   "source": [
    "model = Sequential()\n",
    "\n",
    "model.add(LSTM(input_dim=lag,output_dim=50,return_sequences=True))\n",
    "model.add(Dropout(0.2))\n",
    "\n",
    "model.add(LSTM(100,return_sequences=False))\n",
    "model.add(Dropout(0.2))\n",
    "\n",
    "model.add(Dense(output_dim=1))\n",
    "\n",
    "model.compile(loss='mse', optimizer='adam')\n",
    "model.fit(X_train,y_train,batch_size=128,nb_epoch=10,validation_split=0.05)"
   ]
  },
  {
   "cell_type": "code",
   "execution_count": 69,
   "metadata": {
    "colab": {},
    "colab_type": "code",
    "id": "QbDk0RN-1QgK"
   },
   "outputs": [],
   "source": [
    "y_pred = model.predict(X_test)"
   ]
  },
  {
   "cell_type": "code",
   "execution_count": 134,
   "metadata": {
    "colab": {
     "base_uri": "https://localhost:8080/",
     "height": 283
    },
    "colab_type": "code",
    "id": "Z5T_jvGi2PKg",
    "outputId": "d174a0b1-8f4f-4479-8ec8-a3c1d84e05a4"
   },
   "outputs": [
    {
     "data": {
      "text/plain": [
       "<matplotlib.legend.Legend at 0x2094cb312b0>"
      ]
     },
     "execution_count": 134,
     "metadata": {},
     "output_type": "execute_result"
    },
    {
     "data": {
      "image/png": "[encoded data removed]",
      "text/plain": [
       "<Figure size 432x288 with 1 Axes>"
      ]
     },
     "metadata": {
      "needs_background": "light"
     },
     "output_type": "display_data"
    }
   ],
   "source": [
    "plt.plot(y_pred,label=\"Predicted\")\n",
    "plt.plot(y_test,label=\"Actual\")\n",
    "plt.title(\"Lag=50\")\n",
    "plt.legend()"
   ]
  },
  {
   "cell_type": "code",
   "execution_count": 71,
   "metadata": {
    "colab": {},
    "colab_type": "code",
    "id": "TKW1G1733WTN"
   },
   "outputs": [],
   "source": [
    "lag = 1\n",
    "X_train1, y_train1 = create_dataset(train_data, lag)\n",
    "X_test1, y_test1 = create_dataset(test_data, lag)\n",
    "\n",
    "X_train1 = np.reshape(X_train1, (X_train1.shape[0], 1, X_train1.shape[1]))\n",
    "X_test1 = np.reshape(X_test1, (X_test1.shape[0], 1, X_test1.shape[1]))"
   ]
  },
  {
   "cell_type": "code",
   "execution_count": 72,
   "metadata": {},
   "outputs": [
    {
     "name": "stdout",
     "output_type": "stream",
     "text": [
      "Train on 7168 samples, validate on 378 samples\n",
      "Epoch 1/10\n",
      "7168/7168 [==============================] - 2s 286us/step - loss: 0.0128 - val_loss: 0.0345\n",
      "Epoch 2/10\n",
      "7168/7168 [==============================] - 1s 82us/step - loss: 0.0015 - val_loss: 7.8037e-05\n",
      "Epoch 3/10\n",
      "7168/7168 [==============================] - 1s 83us/step - loss: 2.0037e-04 - val_loss: 3.0859e-05\n",
      "Epoch 4/10\n",
      "7168/7168 [==============================] - 1s 84us/step - loss: 1.8962e-04 - val_loss: 2.8704e-05\n",
      "Epoch 5/10\n",
      "7168/7168 [==============================] - 1s 83us/step - loss: 1.6688e-04 - val_loss: 5.3109e-05\n",
      "Epoch 6/10\n",
      "7168/7168 [==============================] - 1s 90us/step - loss: 1.7108e-04 - val_loss: 3.1183e-05\n",
      "Epoch 7/10\n",
      "7168/7168 [==============================] - 1s 83us/step - loss: 1.6501e-04 - val_loss: 2.9585e-05\n",
      "Epoch 8/10\n",
      "7168/7168 [==============================] - 1s 87us/step - loss: 1.6850e-04 - val_loss: 2.7633e-05TA: 0s - loss: 1.7417\n",
      "Epoch 9/10\n",
      "7168/7168 [==============================] - 1s 91us/step - loss: 1.6201e-04 - val_loss: 3.1584e-05\n",
      "Epoch 10/10\n",
      "7168/7168 [==============================] - 1s 89us/step - loss: 1.4965e-04 - val_loss: 5.0196e-05\n"
     ]
    },
    {
     "data": {
      "text/plain": [
       "<keras.callbacks.callbacks.History at 0x2094634f0b8>"
      ]
     },
     "execution_count": 72,
     "metadata": {},
     "output_type": "execute_result"
    }
   ],
   "source": [
    "model1 = Sequential()\n",
    "\n",
    "model1.add(LSTM(input_dim=lag,output_dim=50,return_sequences=True))\n",
    "model1.add(Dropout(0.2))\n",
    "\n",
    "model1.add(LSTM(100,return_sequences=False))\n",
    "model1.add(Dropout(0.2))\n",
    "\n",
    "model1.add(Dense(output_dim=1))\n",
    "\n",
    "model1.compile(loss='mse', optimizer='adam')\n",
    "model1.fit(X_train1,y_train1,batch_size=128,nb_epoch=10,validation_split=0.05)"
   ]
  },
  {
   "cell_type": "code",
   "execution_count": 73,
   "metadata": {},
   "outputs": [],
   "source": [
    "y_pred1 = model1.predict(X_test1)"
   ]
  },
  {
   "cell_type": "code",
   "execution_count": 135,
   "metadata": {},
   "outputs": [
    {
     "data": {
      "text/plain": [
       "<matplotlib.legend.Legend at 0x2094dd40c50>"
      ]
     },
     "execution_count": 135,
     "metadata": {},
     "output_type": "execute_result"
    },
    {
     "data": {
      "image/png": "[encoded data removed]",
      "text/plain": [
       "<Figure size 432x288 with 1 Axes>"
      ]
     },
     "metadata": {
      "needs_background": "light"
     },
     "output_type": "display_data"
    }
   ],
   "source": [
    "plt.plot(y_pred1*(b-a)+a,label=\"Predicted\")\n",
    "plt.plot(y_test1*(b-a)+a,label=\"Actual\")\n",
    "plt.title(\"Lag=1\")\n",
    "plt.legend()"
   ]
  },
  {
   "cell_type": "code",
   "execution_count": null,
   "metadata": {},
   "outputs": [],
   "source": []
  }
 ],
 "metadata": {
  "accelerator": "GPU",
  "colab": {
   "name": "Untitled1.ipynb",
   "provenance": []
  },
  "kernelspec": {
   "display_name": "Python 3",
   "language": "python",
   "name": "python3"
  },
  "language_info": {
   "codemirror_mode": {
    "name": "ipython",
    "version": 3
   },
   "file_extension": ".py",
   "mimetype": "text/x-python",
   "name": "python",
   "nbconvert_exporter": "python",
   "pygments_lexer": "ipython3",
   "version": "3.7.1"
  }
 },
 "nbformat": 4,
 "nbformat_minor": 1
}
